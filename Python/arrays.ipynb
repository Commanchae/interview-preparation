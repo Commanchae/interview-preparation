{
 "cells": [
  {
   "cell_type": "markdown",
   "metadata": {},
   "source": [
    "## Easy"
   ]
  },
  {
   "cell_type": "markdown",
   "metadata": {},
   "source": [
    "### Problem 1: Second largest element in array."
   ]
  },
  {
   "cell_type": "code",
   "execution_count": 15,
   "metadata": {},
   "outputs": [],
   "source": [
    "arr_1 = [12, 35, 1, 10, 34, 1]\n",
    "arr_2 = [10, -4, -2]\n",
    "arr_3 = [10, 10, 10]\n",
    "arr_4 = [4,10,10,10,10,10,10,10,10]\n",
    "arr_5 = [4,4,4,5,10]"
   ]
  },
  {
   "cell_type": "code",
   "execution_count": 16,
   "metadata": {},
   "outputs": [],
   "source": [
    "def find_second_largest_element(arr):\n",
    "    '''\n",
    "    BRUTEFORCE.\n",
    "    Input arr: an array of integers.\n",
    "    Output int or None: The second largest integer if it exists.\n",
    "    '''\n",
    "\n",
    "    # Using -np.inf would be ideal.\n",
    "    first_largest = -99999999\n",
    "    second_largest = -99999999\n",
    "\n",
    "    # O(n) time complexity.\n",
    "    for integer in arr:\n",
    "        if integer > first_largest:\n",
    "            second_largest = first_largest\n",
    "            first_largest = integer\n",
    "        elif integer > second_largest and integer != first_largest:\n",
    "            second_largest = integer\n",
    "\n",
    "    if (second_largest == -99999999):\n",
    "        return None\n",
    "    else:\n",
    "        return second_largest"
   ]
  },
  {
   "cell_type": "code",
   "execution_count": 17,
   "metadata": {},
   "outputs": [
    {
     "name": "stdout",
     "output_type": "stream",
     "text": [
      "34\n",
      "-2\n",
      "None\n"
     ]
    }
   ],
   "source": [
    "print(find_second_largest_element(arr_1))\n",
    "print(find_second_largest_element(arr_2))\n",
    "print(find_second_largest_element(arr_3))"
   ]
  },
  {
   "cell_type": "code",
   "execution_count": 18,
   "metadata": {},
   "outputs": [],
   "source": [
    "def find_second_largest_element(arr):\n",
    "    '''\n",
    "    A more systematic approach.\n",
    "    Inputs and outputs same as above.\n",
    "    '''\n",
    "\n",
    "    # Uses Timsort with nlogn time complexity.\n",
    "    if arr is None or len(arr) < 1:\n",
    "        return \"Error\"\n",
    "    elif len(arr) == 1:\n",
    "        return None\n",
    "    \n",
    "    arr = sorted(arr)\n",
    "\n",
    "    first_largest = arr[-1]\n",
    "    second_largest = -9999999999\n",
    "\n",
    "    hi = len(arr) - 1\n",
    "    lo = 0\n",
    "\n",
    "\n",
    "    while hi != lo:\n",
    "        search = lo + (hi - lo) // 2 # (hi + low) //2\n",
    "        searched_number = arr[search]\n",
    "        # If the middle number is potentially the second largest, move the lo pointer to the middle, as we know that everything to the left is smaller and everything to the right is bigger.\n",
    "        if searched_number > second_largest and searched_number < first_largest:\n",
    "            second_largest = searched_number\n",
    "            lo = search\n",
    "        else:\n",
    "            # If this else block runs, it means that the number is larger than or equal to first_largest.\n",
    "            hi = search\n",
    "\n",
    "    if (second_largest != -9999999999):\n",
    "        return second_largest\n",
    "    else:\n",
    "        return None\n",
    "\n",
    "        \n",
    "\n",
    "\n",
    "    \n",
    "\n"
   ]
  },
  {
   "cell_type": "code",
   "execution_count": 19,
   "metadata": {},
   "outputs": [
    {
     "name": "stdout",
     "output_type": "stream",
     "text": [
      "34\n",
      "-2\n",
      "None\n",
      "4\n",
      "5\n"
     ]
    }
   ],
   "source": [
    "print(find_second_largest_element(arr_1))\n",
    "print(find_second_largest_element(arr_2))\n",
    "print(find_second_largest_element(arr_3))\n",
    "print(find_second_largest_element(arr_4))\n",
    "print(find_second_largest_element(arr_5))"
   ]
  },
  {
   "cell_type": "code",
   "execution_count": null,
   "metadata": {},
   "outputs": [],
   "source": []
  }
 ],
 "metadata": {
  "kernelspec": {
   "display_name": "Python 3",
   "language": "python",
   "name": "python3"
  },
  "language_info": {
   "codemirror_mode": {
    "name": "ipython",
    "version": 3
   },
   "file_extension": ".py",
   "mimetype": "text/x-python",
   "name": "python",
   "nbconvert_exporter": "python",
   "pygments_lexer": "ipython3",
   "version": "3.10.6"
  }
 },
 "nbformat": 4,
 "nbformat_minor": 2
}
