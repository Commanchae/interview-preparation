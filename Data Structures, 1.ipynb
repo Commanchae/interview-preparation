{
 "cells": [
  {
   "cell_type": "markdown",
   "metadata": {},
   "source": [
    "# Introduction to this Notebook\n",
    "\n",
    "This notebook is used to brush up on data structures and potentially algorithms in preparation for job coding interviews. It will contain information and code on the data structures along with pros/cons.\n",
    "\n",
    "The language used will be Python."
   ]
  },
  {
   "cell_type": "markdown",
   "metadata": {},
   "source": [
    "## Data Structures"
   ]
  },
  {
   "cell_type": "markdown",
   "metadata": {},
   "source": [
    "### Arrays\n",
    "So Python doesn't have in-built support for arrays as it has lists instead. In the traditional sense of arrays, they are a collection of *same data-type* variables stored *contiguously* in the memory. They have a fixed size which you define at declaration **(the amount of memory located depends on the datatype)**. They are static in size and CANNOT be changed later.\n",
    "\n",
    "#### Pros\n",
    "- Arrays are used in the implementation of lot of algorithms and other data structures.\n",
    "- Allows O(1) accessing operation.\n",
    "- Memory efficient as size of array is known at compile time.\n",
    "\n",
    "#### Cons\n",
    "- Fixed size makes it not ideal for problems requiring dynamic resizing of the array."
   ]
  },
  {
   "cell_type": "code",
   "execution_count": null,
   "metadata": {},
   "outputs": [],
   "source": [
    "my_array = [0, 1, 2, 3, 4] # Tradionally, items cannot be added or removed.\n",
    "\n",
    "my_array[0] # == 0. Items are indexed with indices."
   ]
  },
  {
   "cell_type": "markdown",
   "metadata": {},
   "source": [
    "#### Problems\n"
   ]
  }
 ],
 "metadata": {
  "kernelspec": {
   "display_name": "Python 3",
   "language": "python",
   "name": "python3"
  },
  "language_info": {
   "codemirror_mode": {
    "name": "ipython",
    "version": 3
   },
   "file_extension": ".py",
   "mimetype": "text/x-python",
   "name": "python",
   "nbconvert_exporter": "python",
   "pygments_lexer": "ipython3",
   "version": "3.10.6"
  }
 },
 "nbformat": 4,
 "nbformat_minor": 2
}
